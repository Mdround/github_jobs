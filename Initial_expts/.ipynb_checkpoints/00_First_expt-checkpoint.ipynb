{
 "cells": [
  {
   "cell_type": "markdown",
   "metadata": {
    "collapsed": true
   },
   "source": [
    "# First experiments"
   ]
  },
  {
   "cell_type": "markdown",
   "metadata": {},
   "source": [
    "Code based on http://pythonforengineers.com/scraping-via-apis-using-the-github-jobs-api/.\n",
    "The API is here: https://jobs.github.com/api."
   ]
  },
  {
   "cell_type": "markdown",
   "metadata": {},
   "source": [
    "The aim is to:\n",
    "* learn how to import data from GitHub\n",
    "* work out some basic analysis processes\n",
    "* if the data is big enough, do some 2-mode analyses of jobs vs competencies\n",
    "* look for bigger / additional data, or for ways to aggregate data over time"
   ]
  },
  {
   "cell_type": "code",
   "execution_count": 2,
   "metadata": {},
   "outputs": [],
   "source": [
    "import requests\n",
    "import json"
   ]
  },
  {
   "cell_type": "markdown",
   "metadata": {},
   "source": [
    "Create a link using parameters (can be changed later)."
   ]
  },
  {
   "cell_type": "code",
   "execution_count": 62,
   "metadata": {},
   "outputs": [
    {
     "name": "stdout",
     "output_type": "stream",
     "text": [
      "https://jobs.github.com/positions.json?description=data\n"
     ]
    }
   ],
   "source": [
    "keyword = \"data\"\n",
    "# locn = \"london\"\n",
    "\n",
    "# link = \"https://jobs.github.com/positions.json?description=\" + keyword + \"&location=\" + locn\n",
    "link = \"https://jobs.github.com/positions.json?description=\" + keyword\n",
    "\n",
    "\n",
    "print(link)"
   ]
  },
  {
   "cell_type": "markdown",
   "metadata": {},
   "source": [
    "(Clicking on the link above takes me to the right page, so this clearly works)."
   ]
  },
  {
   "cell_type": "markdown",
   "metadata": {},
   "source": [
    "The requests module returns a json object."
   ]
  },
  {
   "cell_type": "code",
   "execution_count": 63,
   "metadata": {
    "collapsed": true
   },
   "outputs": [],
   "source": [
    "r = requests.get(link)"
   ]
  },
  {
   "cell_type": "markdown",
   "metadata": {},
   "source": [
    "I'll need the json library to make sense of it."
   ]
  },
  {
   "cell_type": "code",
   "execution_count": 64,
   "metadata": {
    "collapsed": true
   },
   "outputs": [],
   "source": [
    "jobs = json.loads(r.text)"
   ]
  },
  {
   "cell_type": "markdown",
   "metadata": {},
   "source": [
    "'jobs' is a *list* of all the jobs. This allows us to do things like printing the title of a job:"
   ]
  },
  {
   "cell_type": "code",
   "execution_count": 65,
   "metadata": {},
   "outputs": [
    {
     "name": "stdout",
     "output_type": "stream",
     "text": [
      "Senior Software Engineer, iTunes Infrastructure\n"
     ]
    }
   ],
   "source": [
    "print(jobs[0]['title'])"
   ]
  },
  {
   "cell_type": "markdown",
   "metadata": {},
   "source": [
    "We can also see what keys are available."
   ]
  },
  {
   "cell_type": "code",
   "execution_count": 66,
   "metadata": {},
   "outputs": [
    {
     "data": {
      "text/plain": [
       "dict_keys(['id', 'created_at', 'title', 'location', 'type', 'description', 'how_to_apply', 'company', 'company_url', 'company_logo', 'url'])"
      ]
     },
     "execution_count": 66,
     "metadata": {},
     "output_type": "execute_result"
    }
   ],
   "source": [
    "jobs[0].keys()"
   ]
  },
  {
   "cell_type": "markdown",
   "metadata": {},
   "source": [
    "Let's work out the number of jobs, before we print it to screen."
   ]
  },
  {
   "cell_type": "code",
   "execution_count": 68,
   "metadata": {},
   "outputs": [
    {
     "data": {
      "text/plain": [
       "50"
      ]
     },
     "execution_count": 68,
     "metadata": {},
     "output_type": "execute_result"
    }
   ],
   "source": [
    "len(jobs)"
   ]
  },
  {
   "cell_type": "markdown",
   "metadata": {},
   "source": [
    "We can print the lot (it was a moderately restrictive search)."
   ]
  },
  {
   "cell_type": "code",
   "execution_count": 67,
   "metadata": {},
   "outputs": [
    {
     "name": "stdout",
     "output_type": "stream",
     "text": [
      "Senior Software Engineer, iTunes Infrastructure http://jobs.github.com/positions/6e78571c-721d-11e7-93e8-994d0aa4025c\n",
      "Siri Full Stack Engineer http://jobs.github.com/positions/624f0f44-721d-11e7-9fd3-aafbca72fcf6\n",
      "Siri Integration Engineer http://jobs.github.com/positions/555a72f6-721d-11e7-9ec9-c0d2c8edf759\n",
      "SENIOR FULL-STACK DEV WITH REACT -- SMALL TEAM OF EXPERTS -- 100% REMOTE, FLEXIBLE HOURS http://jobs.github.com/positions/4b2e50c6-7197-11e7-9e23-9da32fcca456\n",
      "Data Analyst (m/f) Product Management Polyurethanes http://jobs.github.com/positions/5e246396-7138-11e7-86f3-36a58982cbdd\n",
      "Data Scientist - NLP http://jobs.github.com/positions/df4fc0d0-712b-11e7-8d65-e543675c25f7\n",
      "Front End Web Developer http://jobs.github.com/positions/0587eb2c-70ca-11e7-9f28-3f84c6407ba8\n",
      "Senior Product Engineer (Ruby + JavaScript) http://jobs.github.com/positions/d9983c7c-3999-11e7-8222-72f96992a639\n",
      "Software Engineer http://jobs.github.com/positions/3ac5a974-6e3a-11e7-9f4c-5c78c93d17fe\n",
      "Web/mobile application developer http://jobs.github.com/positions/dd7e5438-6e2e-11e7-99ad-5b625668a122\n",
      "Lead Full Stack Engineer http://jobs.github.com/positions/6254f3e0-6e2c-11e7-9494-e7a85943d491\n",
      "Senior Java Software Engineer http://jobs.github.com/positions/d6030d62-6d8d-11e7-9deb-42711fd438aa\n",
      "MorphoSource Repository Developer http://jobs.github.com/positions/164c710e-6d8b-11e7-9c69-149a7f865fcc\n",
      "FOLIO Senior Developer http://jobs.github.com/positions/6a0416a6-6d83-11e7-8634-60fc9bb5270b\n",
      "Principal Software Engineer http://jobs.github.com/positions/91fbb3ac-6cc6-11e7-913e-decbedf62592\n",
      "Software Engineer - Server-Side and Cloud Applications http://jobs.github.com/positions/5f66f3ca-5097-11e7-9361-727b9fa793a7\n",
      "Operations Engineer http://jobs.github.com/positions/f6a2e91a-6cbc-11e7-9529-506211509cb4\n",
      "Senior Backend Software Engineer http://jobs.github.com/positions/52834d26-6cbb-11e7-9ab3-3613d0a21a33\n",
      "Senior Systems Engineer http://jobs.github.com/positions/bb2fef9e-6bcd-11e7-8390-d612d212dd5a\n",
      "Senior Software Engineer http://jobs.github.com/positions/db6238ae-6bea-11e7-98c7-623fdc5da624\n",
      "Java Developer http://jobs.github.com/positions/1b1032d2-6bdf-11e7-888d-cb1876c61af4\n",
      "Manager/Director of Strategic Workforce Planning http://jobs.github.com/positions/3ce0c898-520f-11e7-9591-e1727e331916\n",
      "Lead Application Developer http://jobs.github.com/positions/a25f1c36-4a0a-11e7-92b1-38e1038f5d41\n",
      "Principal Applications Architect http://jobs.github.com/positions/9c36b9a2-3cd8-11e7-8a2f-38ae745d6c3c\n",
      "MySQL Architect http://jobs.github.com/positions/05d71990-3cd6-11e7-85ac-ed44b4959fad\n",
      "Ruby on Rails Ninja http://jobs.github.com/positions/c50f6998-6b1b-11e7-823e-615fc7a30edc\n",
      "Senior Backend Developer (PHP & Devops) http://jobs.github.com/positions/b0cdbbe0-6b04-11e7-888a-ec0a9ca5b2e7\n",
      "Data Engineer with ML, Spark and Scala http://jobs.github.com/positions/fb05222c-6b02-11e7-8b69-e886ea72d789\n",
      "Senior Software Developer http://jobs.github.com/positions/65ea57c4-6aea-11e7-86c0-892df2990014\n",
      "Senior Data Scientist, Search & Discovery http://jobs.github.com/positions/c5a8eee8-68db-11e7-90fe-6083baee5de9\n",
      "Javascript Engineer http://jobs.github.com/positions/db35e6b6-68a5-11e7-96fc-d2976f89064b\n",
      "Python Developer (m/f) http://jobs.github.com/positions/33763cf4-67ac-11e7-9ef3-cd6c6ec10d26\n",
      "Senior Engineer http://jobs.github.com/positions/ef88ed70-675b-11e7-8318-651c16d485b6\n",
      "Senior Software Engineer (Java and ML) - Customer Systems http://jobs.github.com/positions/df82f7fc-6712-11e7-84cd-03fcd4d96792\n",
      "Data Engineer http://jobs.github.com/positions/30f6f774-4c7d-11e7-9bb1-27ba2d3ab911\n",
      "Engineering Manager http://jobs.github.com/positions/353710b2-668b-11e7-8a4c-ad10ea24ded1\n",
      "Engineering Manager - Ecosystem Open Source http://jobs.github.com/positions/23ad8d22-4245-11e7-8112-bbc924e8a8d7\n",
      "Commerce Software Engineer, Apple Media Products http://jobs.github.com/positions/b0385054-6655-11e7-9ede-f1670c88a518\n",
      "Java Developer - Contribute to our fast growing - high performance payment platform http://jobs.github.com/positions/2174af58-661d-11e7-8b4a-72d86358b28b\n",
      "Java/C/C++ Software Engineer with Reverse Engineering Experience  http://jobs.github.com/positions/3a56a914-65c7-11e7-845a-3199be41f18e\n",
      "Senior Security Specialist - SAP Hybris Cloud Operations Job http://jobs.github.com/positions/faba5df0-658a-11e7-846a-acacd9d11a2e\n",
      "Lead Frontend Developer http://jobs.github.com/positions/f84d1128-6564-11e7-868e-2578b9495331\n",
      "Development Engineer - Working in Japan http://jobs.github.com/positions/38173a4a-dbcc-11e6-9c53-e2c21bd61de8\n",
      "Platform Resilience Engineer http://jobs.github.com/positions/ed410b3a-c3b7-11e6-9f62-a0122a3f759d\n",
      "Software / Technical Architect (minimum 10 years experience) http://jobs.github.com/positions/39d704f0-63b7-11e7-8091-1b15141833d4\n",
      "Senior iOS Engineer, Predictive Intelligence http://jobs.github.com/positions/245509ba-6330-11e7-811b-2ba9f3aeda6c\n",
      "Full Stack Web Developer (Elixir, Rails, React.js or Laravel a bonus) http://jobs.github.com/positions/2a16bc7a-631e-11e7-9d79-efd4454a46e2\n",
      "Frontend Software Developer http://jobs.github.com/positions/5b3e94fa-62b8-11e7-863d-61b0703e39e2\n",
      "Lead Front End Engineer http://jobs.github.com/positions/b3a48cac-6282-11e7-901b-d03a71b089ed\n",
      "(Senior) Golang Engineer | Data Science Platform http://jobs.github.com/positions/2418d38e-6243-11e7-89d3-f25041c7e7de\n"
     ]
    }
   ],
   "source": [
    "for job in jobs:\n",
    "    print(job['title'], job['url'])"
   ]
  },
  {
   "cell_type": "markdown",
   "metadata": {},
   "source": [
    "What d'ya know... Data Scientist jobs."
   ]
  },
  {
   "cell_type": "code",
   "execution_count": null,
   "metadata": {
    "collapsed": true
   },
   "outputs": [],
   "source": []
  },
  {
   "cell_type": "code",
   "execution_count": null,
   "metadata": {
    "collapsed": true
   },
   "outputs": [],
   "source": []
  }
 ],
 "metadata": {
  "kernelspec": {
   "display_name": "Python 3",
   "language": "python",
   "name": "python3"
  },
  "language_info": {
   "codemirror_mode": {
    "name": "ipython",
    "version": 3
   },
   "file_extension": ".py",
   "mimetype": "text/x-python",
   "name": "python",
   "nbconvert_exporter": "python",
   "pygments_lexer": "ipython3",
   "version": "3.6.2"
  }
 },
 "nbformat": 4,
 "nbformat_minor": 2
}
